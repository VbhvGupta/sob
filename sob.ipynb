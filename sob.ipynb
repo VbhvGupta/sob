{
  "nbformat": 4,
  "nbformat_minor": 0,
  "metadata": {
    "colab": {
      "name": "sob.ipynb",
      "provenance": [],
      "mount_file_id": "1qL2-v24qDpiJtpYYwhCSlDgUjjHFHekg",
      "authorship_tag": "ABX9TyMSYmk+6/SZn/GsD1a5kOjZ",
      "include_colab_link": true
    },
    "kernelspec": {
      "name": "python3",
      "display_name": "Python 3"
    },
    "language_info": {
      "name": "python"
    }
  },
  "cells": [
    {
      "cell_type": "markdown",
      "metadata": {
        "id": "view-in-github",
        "colab_type": "text"
      },
      "source": [
        "<a href=\"https://colab.research.google.com/github/whynotkush/sob/blob/main/sob.ipynb\" target=\"_parent\"><img src=\"https://colab.research.google.com/assets/colab-badge.svg\" alt=\"Open In Colab\"/></a>"
      ]
    },
    {
      "cell_type": "markdown",
      "metadata": {
        "id": "piy8OBnRXH3I"
      },
      "source": [
        "<center> <h1> Summer of Bitcoin</h1> </center> "
      ]
    },
    {
      "cell_type": "code",
      "metadata": {
        "id": "1zSY8geJebX3"
      },
      "source": [
        "block_weight = 4000000"
      ],
      "execution_count": 11,
      "outputs": []
    },
    {
      "cell_type": "code",
      "metadata": {
        "id": "BzRWDVVxaX9p"
      },
      "source": [
        "import pandas as pd\n",
        "import numpy as np"
      ],
      "execution_count": 12,
      "outputs": []
    },
    {
      "cell_type": "markdown",
      "metadata": {
        "id": "mR17mgznu-Ca"
      },
      "source": [
        "##### Reading **CSV**"
      ]
    },
    {
      "cell_type": "code",
      "metadata": {
        "id": "7DYgTzYFadIx"
      },
      "source": [
        "mempool_csv = pd.read_csv('/content/drive/MyDrive/Colab Notebooks/summer_of_bitcoin_challenge/mempool.csv')"
      ],
      "execution_count": 13,
      "outputs": []
    },
    {
      "cell_type": "markdown",
      "metadata": {
        "id": "Sp3TRUKLvF1V"
      },
      "source": [
        "##### Caluclating weighted fee"
      ]
    },
    {
      "cell_type": "code",
      "metadata": {
        "id": "0wU6RcQskeBg"
      },
      "source": [
        "mempool_csv['weighted_fee'] = mempool_csv['fee'] / mempool_csv['weight']"
      ],
      "execution_count": 14,
      "outputs": []
    },
    {
      "cell_type": "markdown",
      "metadata": {
        "id": "oPejC3zVvQHF"
      },
      "source": [
        "##### Sorting the dataframe w.r.t weighted_fee column"
      ]
    },
    {
      "cell_type": "code",
      "metadata": {
        "id": "8CNyCs9jU7D3"
      },
      "source": [
        "mempool_csv = mempool_csv.sort_values( 'weighted_fee', ascending = False, ignore_index= True)"
      ],
      "execution_count": 15,
      "outputs": []
    },
    {
      "cell_type": "code",
      "metadata": {
        "colab": {
          "base_uri": "https://localhost:8080/",
          "height": 359
        },
        "id": "N5uSkJ5uapB4",
        "outputId": "1596ff12-af80-445f-c7f6-b0f79c703b98"
      },
      "source": [
        "mempool_csv.head(10)"
      ],
      "execution_count": 70,
      "outputs": [
        {
          "output_type": "execute_result",
          "data": {
            "text/html": [
              "<div>\n",
              "<style scoped>\n",
              "    .dataframe tbody tr th:only-of-type {\n",
              "        vertical-align: middle;\n",
              "    }\n",
              "\n",
              "    .dataframe tbody tr th {\n",
              "        vertical-align: top;\n",
              "    }\n",
              "\n",
              "    .dataframe thead th {\n",
              "        text-align: right;\n",
              "    }\n",
              "</style>\n",
              "<table border=\"1\" class=\"dataframe\">\n",
              "  <thead>\n",
              "    <tr style=\"text-align: right;\">\n",
              "      <th></th>\n",
              "      <th>tx_id</th>\n",
              "      <th>fee</th>\n",
              "      <th>weight</th>\n",
              "      <th>parents</th>\n",
              "      <th>weighted_fee</th>\n",
              "    </tr>\n",
              "  </thead>\n",
              "  <tbody>\n",
              "    <tr>\n",
              "      <th>0</th>\n",
              "      <td>59f0495cf66d1864359dda816eb7189b9d9a3a9cd9dc50...</td>\n",
              "      <td>201700</td>\n",
              "      <td>1348</td>\n",
              "      <td>0</td>\n",
              "      <td>149.629080</td>\n",
              "    </tr>\n",
              "    <tr>\n",
              "      <th>1</th>\n",
              "      <td>826c80c43044cc00bebdf021a42dca6946591f02710e4e...</td>\n",
              "      <td>90000</td>\n",
              "      <td>896</td>\n",
              "      <td>0</td>\n",
              "      <td>100.446429</td>\n",
              "    </tr>\n",
              "    <tr>\n",
              "      <th>2</th>\n",
              "      <td>c3fef085fca34891e6456489d840ab68139b24857eb1f9...</td>\n",
              "      <td>100000</td>\n",
              "      <td>1148</td>\n",
              "      <td>0</td>\n",
              "      <td>87.108014</td>\n",
              "    </tr>\n",
              "    <tr>\n",
              "      <th>3</th>\n",
              "      <td>de669dad7f8d8b37a789cb8f86ddd62b93b7b8323d90ff...</td>\n",
              "      <td>57000</td>\n",
              "      <td>756</td>\n",
              "      <td>0</td>\n",
              "      <td>75.396825</td>\n",
              "    </tr>\n",
              "    <tr>\n",
              "      <th>4</th>\n",
              "      <td>87784075804f10dad1f815de867dde2875e73a13da798c...</td>\n",
              "      <td>107775</td>\n",
              "      <td>1660</td>\n",
              "      <td>0</td>\n",
              "      <td>64.924699</td>\n",
              "    </tr>\n",
              "    <tr>\n",
              "      <th>5</th>\n",
              "      <td>b8894fbe99628c253fa93cf178679727e117d04fea5e50...</td>\n",
              "      <td>54675</td>\n",
              "      <td>904</td>\n",
              "      <td>0</td>\n",
              "      <td>60.481195</td>\n",
              "    </tr>\n",
              "    <tr>\n",
              "      <th>6</th>\n",
              "      <td>3bfc4c22fc7aaded4b02c6a6d67b4a7bad297377e46e4c...</td>\n",
              "      <td>194166</td>\n",
              "      <td>3852</td>\n",
              "      <td>0</td>\n",
              "      <td>50.406542</td>\n",
              "    </tr>\n",
              "    <tr>\n",
              "      <th>7</th>\n",
              "      <td>0c8ebf9c75f63b7e5ff176e2937f24c694aa6b3bde0e59...</td>\n",
              "      <td>104400</td>\n",
              "      <td>2084</td>\n",
              "      <td>0</td>\n",
              "      <td>50.095969</td>\n",
              "    </tr>\n",
              "    <tr>\n",
              "      <th>8</th>\n",
              "      <td>6a709ddadfcf13b2e302cf0f75163538b0273923cc55fc...</td>\n",
              "      <td>59326</td>\n",
              "      <td>1364</td>\n",
              "      <td>0</td>\n",
              "      <td>43.494135</td>\n",
              "    </tr>\n",
              "    <tr>\n",
              "      <th>9</th>\n",
              "      <td>fc54aafe611780ae7cd9f375f1cc07f4c1ade7d55ef6c5...</td>\n",
              "      <td>19680</td>\n",
              "      <td>756</td>\n",
              "      <td>0</td>\n",
              "      <td>26.031746</td>\n",
              "    </tr>\n",
              "  </tbody>\n",
              "</table>\n",
              "</div>"
            ],
            "text/plain": [
              "                                               tx_id  ...  weighted_fee\n",
              "0  59f0495cf66d1864359dda816eb7189b9d9a3a9cd9dc50...  ...    149.629080\n",
              "1  826c80c43044cc00bebdf021a42dca6946591f02710e4e...  ...    100.446429\n",
              "2  c3fef085fca34891e6456489d840ab68139b24857eb1f9...  ...     87.108014\n",
              "3  de669dad7f8d8b37a789cb8f86ddd62b93b7b8323d90ff...  ...     75.396825\n",
              "4  87784075804f10dad1f815de867dde2875e73a13da798c...  ...     64.924699\n",
              "5  b8894fbe99628c253fa93cf178679727e117d04fea5e50...  ...     60.481195\n",
              "6  3bfc4c22fc7aaded4b02c6a6d67b4a7bad297377e46e4c...  ...     50.406542\n",
              "7  0c8ebf9c75f63b7e5ff176e2937f24c694aa6b3bde0e59...  ...     50.095969\n",
              "8  6a709ddadfcf13b2e302cf0f75163538b0273923cc55fc...  ...     43.494135\n",
              "9  fc54aafe611780ae7cd9f375f1cc07f4c1ade7d55ef6c5...  ...     26.031746\n",
              "\n",
              "[10 rows x 5 columns]"
            ]
          },
          "metadata": {
            "tags": []
          },
          "execution_count": 70
        }
      ]
    },
    {
      "cell_type": "markdown",
      "metadata": {
        "id": "ldS-9vSHu0kz"
      },
      "source": [
        "##### Handling Nan Values "
      ]
    },
    {
      "cell_type": "code",
      "metadata": {
        "id": "aREijhD_qZq4"
      },
      "source": [
        "mempool_csv.fillna(value = 0 , inplace = True)"
      ],
      "execution_count": 69,
      "outputs": []
    },
    {
      "cell_type": "code",
      "metadata": {
        "id": "m6yEG6AmZJlw"
      },
      "source": [
        "curSum = 0\n",
        "curWeight = 0\n",
        "block_dic = []\n",
        "\n",
        "\n",
        "for i in range(0,5214):\n",
        "\n",
        "  if mempool_csv['parents '][i]== 0 and (curWeight + mempool_csv['weight'][i]) <= block_weight:\n",
        "    curSum += mempool_csv['fee'][i]\n",
        "    curWeight += mempool_csv['weight'][i]\n",
        "    block_dic.append(mempool_csv['tx_id'][i])\n",
        "\n",
        "  elif not mempool_csv['parents '][i]!=0 and (curWeight + mempool_csv['weight'][i]) <= block_weight :\n",
        "    parents = mempool_csv['parents '][i].split(';')\n",
        "    print(parents)\n",
        "    flag = False \n",
        "    for p in parents :\n",
        "      if p not in block_dic :\n",
        "        flag = True\n",
        "    if not flag :\n",
        "      curSum += mempool_csv['fee'][i]\n",
        "      curWeight += mempool_csv['weight'][i]\n",
        "      block_dic.append(mempool_csv['tx_id'][i])   "
      ],
      "execution_count": 75,
      "outputs": []
    },
    {
      "cell_type": "code",
      "metadata": {
        "colab": {
          "base_uri": "https://localhost:8080/"
        },
        "id": "k_IqI6qUhBxB",
        "outputId": "d44b41b0-5204-4ba7-d4b2-0781cac5caee"
      },
      "source": [
        "print(curSum,curWeight,len(block_dic))"
      ],
      "execution_count": 76,
      "outputs": [
        {
          "output_type": "stream",
          "text": [
            "4803570 3999936 2668\n"
          ],
          "name": "stdout"
        }
      ]
    }
  ]
}